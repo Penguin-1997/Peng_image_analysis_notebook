{
 "cells": [
  {
   "cell_type": "code",
   "execution_count": 1,
   "id": "b6920f6a-d7d9-40e5-a7eb-e1d005a16f5f",
   "metadata": {},
   "outputs": [
    {
     "ename": "NameError",
     "evalue": "name 'huhuh' is not defined",
     "output_type": "error",
     "traceback": [
      "\u001b[1;31m---------------------------------------------------------------------------\u001b[0m",
      "\u001b[1;31mNameError\u001b[0m                                 Traceback (most recent call last)",
      "Cell \u001b[1;32mIn [1], line 2\u001b[0m\n\u001b[0;32m      1\u001b[0m \u001b[38;5;28;01mimport\u001b[39;00m \u001b[38;5;21;01mnumpy\u001b[39;00m \n\u001b[1;32m----> 2\u001b[0m huhuh\n",
      "\u001b[1;31mNameError\u001b[0m: name 'huhuh' is not defined"
     ]
    }
   ],
   "source": [
    "import numpy \n",
    "huhuh"
   ]
  },
  {
   "cell_type": "code",
   "execution_count": null,
   "id": "6502703a-4f8c-42f6-a68d-4cd2c6edf3ba",
   "metadata": {},
   "outputs": [],
   "source": []
  }
 ],
 "metadata": {
  "kernelspec": {
   "display_name": "Python 3 (ipykernel)",
   "language": "python",
   "name": "python3"
  },
  "language_info": {
   "codemirror_mode": {
    "name": "ipython",
    "version": 3
   },
   "file_extension": ".py",
   "mimetype": "text/x-python",
   "name": "python",
   "nbconvert_exporter": "python",
   "pygments_lexer": "ipython3",
   "version": "3.9.13"
  }
 },
 "nbformat": 4,
 "nbformat_minor": 5
}
